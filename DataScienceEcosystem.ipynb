{
 "cells": [
  {
   "cell_type": "markdown",
   "id": "1d7d138f-18c4-4a78-a1cc-4e2e0c8fb499",
   "metadata": {},
   "source": [
    "Data Science Tools and Ecosystem using H1 style heading"
   ]
  },
  {
   "cell_type": "markdown",
   "id": "2bcac2d2-9d88-459f-9adf-d602fb53aba9",
   "metadata": {},
   "source": [
    "# H1: This is a level 1 Heading\n",
    "## H2: This is a level 2 heading\n",
    "### H3: This is a level 3 heading\n",
    "#### H4: This is a level 4 heading\n",
    "##### H5: This is a level 5 heading\n",
    "###### H6: This is a level 6 heading\n"
   ]
  },
  {
   "cell_type": "markdown",
   "id": "1be07c7a-ba8e-4762-9533-33aa82597969",
   "metadata": {},
   "source": [
    "In this notebook, Data Science Tools and Ecosystem are summarized.\n"
   ]
  },
  {
   "cell_type": "markdown",
   "id": "5c469d14-2829-47f1-a874-869264fb1f67",
   "metadata": {},
   "source": [
    "Some of the popular languages that Data Scientists use are:\n",
    "# Python\n",
    "# R\n",
    "# SQL\n",
    "# Java\n",
    "# Scala\n",
    "# C++\n",
    "# Julia\n",
    "# JavaScript\n",
    "# PHP\n",
    "# Go\n",
    "# Ruby\n",
    "# Visual Basic\n"
   ]
  },
  {
   "cell_type": "markdown",
   "id": "b352d776-bfd5-45ed-ac4f-91786ce9d8e8",
   "metadata": {},
   "source": [
    "Some of the commonly used libraries used by Data Scientists include:\n",
    "# Pandas\r\n",
    "# NumPy\r\n",
    "# Matplotlib\r\n",
    "# Seaborn\r\n",
    "# Scikit-learn\r\n",
    "# Keras\r\n",
    "# Tensor Flow\r\n",
    "# Pytorch\r\n",
    "# Apache Spark\r\n",
    "# Vegas\r\n",
    "# ggplot2\r\n"
   ]
  },
  {
   "cell_type": "markdown",
   "id": "5c320f2c-738b-40f3-a03b-ae7702124f0d",
   "metadata": {},
   "source": [
    "|Data Science Tools|\n",
    "|--------------------|\n",
    "|Python|\n",
    "|R|\n",
    "|SQL|\n",
    "\n",
    "\n"
   ]
  },
  {
   "cell_type": "markdown",
   "id": "6888e121-97f8-418e-8cac-07a40ed44bf4",
   "metadata": {},
   "source": [
    "### Below are a few examples of evaluating arithmetic expressions in Python."
   ]
  },
  {
   "cell_type": "markdown",
   "id": "0d3cfba1-dfad-40ad-9f43-c49a27819969",
   "metadata": {},
   "source": [
    "## This a simple arithmetic expression to mutiply then add integers."
   ]
  },
  {
   "cell_type": "code",
   "execution_count": 11,
   "id": "9284d817-63ed-4b9a-b57b-054bd146e57c",
   "metadata": {},
   "outputs": [
    {
     "data": {
      "text/plain": [
       "17"
      ]
     },
     "execution_count": 11,
     "metadata": {},
     "output_type": "execute_result"
    }
   ],
   "source": [
    "(3*4)+5"
   ]
  },
  {
   "cell_type": "markdown",
   "id": "e95fa15f-ca4a-47f9-aaef-fe3d8eb62275",
   "metadata": {},
   "source": [
    "## This will convert 200 minutes to hours by diving by 60."
   ]
  },
  {
   "cell_type": "code",
   "execution_count": 14,
   "id": "39fbee3b-3381-4e0f-a841-2989c3d97f85",
   "metadata": {},
   "outputs": [
    {
     "data": {
      "text/plain": [
       "3.3333333333333335"
      ]
     },
     "execution_count": 14,
     "metadata": {},
     "output_type": "execute_result"
    }
   ],
   "source": [
    "200/60"
   ]
  },
  {
   "cell_type": "markdown",
   "id": "56cf1098-6449-48dd-9c61-ef2f3f7e9056",
   "metadata": {},
   "source": [
    "# Some of the key takeaways from the course:"
   ]
  },
  {
   "cell_type": "markdown",
   "id": "15d73993-61de-4c8a-9b88-6ce919a4b8e0",
   "metadata": {},
   "source": [
    "**Objectives**"
   ]
  },
  {
   "cell_type": "markdown",
   "id": "1c4260d3-631e-43d8-8b7c-e1b1b22e165e",
   "metadata": {},
   "source": [
    "* Python\n",
    "* R\n",
    "* SQL\n",
    "* JAVA"
   ]
  },
  {
   "cell_type": "markdown",
   "id": "dae66c60-b35e-4809-a0fa-855c7c657bcb",
   "metadata": {},
   "source": [
    "## Author\n",
    "\n",
    "Pranav Kumar"
   ]
  },
  {
   "cell_type": "code",
   "execution_count": null,
   "id": "2f2704d2-2394-4ce7-a2ce-708c3fb226a0",
   "metadata": {},
   "outputs": [],
   "source": []
  }
 ],
 "metadata": {
  "kernelspec": {
   "display_name": "Python 3 (ipykernel)",
   "language": "python",
   "name": "python3"
  },
  "language_info": {
   "codemirror_mode": {
    "name": "ipython",
    "version": 3
   },
   "file_extension": ".py",
   "mimetype": "text/x-python",
   "name": "python",
   "nbconvert_exporter": "python",
   "pygments_lexer": "ipython3",
   "version": "3.12.4"
  }
 },
 "nbformat": 4,
 "nbformat_minor": 5
}
